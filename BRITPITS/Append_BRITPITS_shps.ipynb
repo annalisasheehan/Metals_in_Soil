{
 "cells": [
  {
   "cell_type": "code",
   "execution_count": 1,
   "id": "announced-fossil",
   "metadata": {},
   "outputs": [],
   "source": [
    "import glob\n",
    "import os \n",
    "import geopandas as gpd\n",
    "import pandas as pd "
   ]
  },
  {
   "cell_type": "code",
   "execution_count": 3,
   "id": "tracked-hungarian",
   "metadata": {},
   "outputs": [],
   "source": [
    "Britpit_folder = \"/Volumes/Personal/Metals/BRITPITS\""
   ]
  },
  {
   "cell_type": "code",
   "execution_count": 6,
   "id": "posted-patrick",
   "metadata": {},
   "outputs": [
    {
     "data": {
      "text/plain": [
       "['/Volumes/Personal/Metals/BRITPITS/North_East.shp',\n",
       " '/Volumes/Personal/Metals/BRITPITS/Channel_Islands.shp',\n",
       " '/Volumes/Personal/Metals/BRITPITS/Yorkshire_Humber.shp',\n",
       " '/Volumes/Personal/Metals/BRITPITS/East_of_England.shp',\n",
       " '/Volumes/Personal/Metals/BRITPITS/Greater_London.shp',\n",
       " '/Volumes/Personal/Metals/BRITPITS/North_West.shp',\n",
       " '/Volumes/Personal/Metals/BRITPITS/South_East.shp',\n",
       " '/Volumes/Personal/Metals/BRITPITS/West_Midlands.shp',\n",
       " '/Volumes/Personal/Metals/BRITPITS/South_West.shp',\n",
       " '/Volumes/Personal/Metals/BRITPITS/East_Midlands.shp']"
      ]
     },
     "execution_count": 6,
     "metadata": {},
     "output_type": "execute_result"
    }
   ],
   "source": [
    "Britpit_files = glob.glob(\"{folder}/*.shp\".format(folder=Britpit_folder))\n",
    "Britpit_files"
   ]
  },
  {
   "cell_type": "code",
   "execution_count": 26,
   "id": "conditional-designation",
   "metadata": {},
   "outputs": [
    {
     "data": {
      "text/plain": [
       "['/Volumes/Personal/Metals/BRITPITS/Channel_Islands.shp',\n",
       " '/Volumes/Personal/Metals/BRITPITS/Yorkshire_Humber.shp',\n",
       " '/Volumes/Personal/Metals/BRITPITS/East_of_England.shp',\n",
       " '/Volumes/Personal/Metals/BRITPITS/Greater_London.shp',\n",
       " '/Volumes/Personal/Metals/BRITPITS/North_West.shp',\n",
       " '/Volumes/Personal/Metals/BRITPITS/South_East.shp',\n",
       " '/Volumes/Personal/Metals/BRITPITS/West_Midlands.shp',\n",
       " '/Volumes/Personal/Metals/BRITPITS/South_West.shp',\n",
       " '/Volumes/Personal/Metals/BRITPITS/East_Midlands.shp']"
      ]
     },
     "execution_count": 26,
     "metadata": {},
     "output_type": "execute_result"
    }
   ],
   "source": [
    "Append_list = Britpit_files[1:]\n",
    "Append_list"
   ]
  },
  {
   "cell_type": "code",
   "execution_count": 25,
   "id": "violent-benchmark",
   "metadata": {},
   "outputs": [
    {
     "data": {
      "text/plain": [
       "'/Volumes/Personal/Metals/BRITPITS/North_East.shp'"
      ]
     },
     "execution_count": 25,
     "metadata": {},
     "output_type": "execute_result"
    }
   ],
   "source": [
    "Inital_file = Britpit_files[0]\n",
    "Inital_file"
   ]
  },
  {
   "cell_type": "code",
   "execution_count": 19,
   "id": "third-classroom",
   "metadata": {},
   "outputs": [
    {
     "name": "stdout",
     "output_type": "stream",
     "text": [
      "Channel_Islands.shp\n",
      "14\n",
      "10670\n",
      "Yorkshire_Humber.shp\n",
      "32062\n",
      "42732\n",
      "East_of_England.shp\n",
      "20976\n",
      "63708\n",
      "Greater_London.shp\n",
      "1621\n",
      "65329\n",
      "North_West.shp\n",
      "13937\n",
      "79266\n",
      "South_East.shp\n",
      "23711\n",
      "102977\n",
      "West_Midlands.shp\n",
      "14980\n",
      "117957\n",
      "South_West.shp\n",
      "30335\n",
      "148292\n",
      "East_Midlands.shp\n",
      "15959\n",
      "164251\n"
     ]
    }
   ],
   "source": [
    "England = gpd.read_file(Inital_file)\n",
    "\n",
    "for file in Append_list:\n",
    "    print(os.path.basename(file))\n",
    "    next_shp = gpd.read_file(file)\n",
    "    print(next_shp.shape[0])\n",
    "    England = England.append(next_shp)\n",
    "    print(England.shape[0])\n",
    "    \n",
    "England.to_file(\"/Volumes/Personal/Metals/BRITPITS/England_merge.shp\") "
   ]
  }
 ],
 "metadata": {
  "kernelspec": {
   "display_name": "Python 3",
   "language": "python",
   "name": "python3"
  },
  "language_info": {
   "codemirror_mode": {
    "name": "ipython",
    "version": 3
   },
   "file_extension": ".py",
   "mimetype": "text/x-python",
   "name": "python",
   "nbconvert_exporter": "python",
   "pygments_lexer": "ipython3",
   "version": "3.6.12"
  }
 },
 "nbformat": 4,
 "nbformat_minor": 5
}
